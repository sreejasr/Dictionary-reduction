{
 "cells": [
  {
   "cell_type": "code",
   "execution_count": 16,
   "metadata": {
    "ExecuteTime": {
     "end_time": "2018-08-30T11:30:30.478685Z",
     "start_time": "2018-08-30T11:30:30.468378Z"
    },
    "collapsed": true
   },
   "outputs": [],
   "source": [
    "import numpy as np\n",
    "from __future__ import print_function\n",
    "import numpy as np\n",
    "import scipy\n",
    "from matplotlib import pyplot as plt\n",
    "import csv\n",
    "from sklearn import metrics\n",
    "from sklearn.linear_model import OrthogonalMatchingPursuit\n",
    "from sklearn.linear_model import OrthogonalMatchingPursuitCV\n",
    "from sklearn.decomposition import PCA, TruncatedSVD\n",
    "from sklearn import metrics\n",
    "from sklearn.preprocessing import normalize\n",
    "from scipy.sparse import coo_matrix\n",
    "from sklearn.utils import resample\n",
    "import time\n",
    "from sklearn.cluster import KMeans\n",
    "from scipy.stats import pearsonr\n",
    "from sklearn.cluster import AgglomerativeClustering\n"
   ]
  },
  {
   "cell_type": "code",
   "execution_count": 8,
   "metadata": {
    "ExecuteTime": {
     "end_time": "2018-08-30T11:26:35.311318Z",
     "start_time": "2018-08-30T11:26:35.294873Z"
    },
    "collapsed": true
   },
   "outputs": [],
   "source": [
    "D = np.load(\"D.npy\")"
   ]
  },
  {
   "cell_type": "code",
   "execution_count": 21,
   "metadata": {
    "ExecuteTime": {
     "end_time": "2018-08-30T11:32:23.137745Z",
     "start_time": "2018-08-30T11:32:23.120636Z"
    },
    "collapsed": true
   },
   "outputs": [],
   "source": [
    "D_test = np.load(\"dict_sub3_l1b.npy\")"
   ]
  },
  {
   "cell_type": "code",
   "execution_count": null,
   "metadata": {
    "collapsed": true
   },
   "outputs": [],
   "source": []
  },
  {
   "cell_type": "code",
   "execution_count": 10,
   "metadata": {
    "ExecuteTime": {
     "end_time": "2018-08-30T11:26:42.848405Z",
     "start_time": "2018-08-30T11:26:42.830799Z"
    }
   },
   "outputs": [
    {
     "data": {
      "text/plain": [
       "(1080, 240)"
      ]
     },
     "execution_count": 10,
     "metadata": {},
     "output_type": "execute_result"
    }
   ],
   "source": [
    "D.shape\n",
    "D1 = np.transpose(D)\n",
    "D1.shape"
   ]
  },
  {
   "cell_type": "code",
   "execution_count": 17,
   "metadata": {
    "ExecuteTime": {
     "end_time": "2018-08-30T11:30:33.508380Z",
     "start_time": "2018-08-30T11:30:33.320505Z"
    },
    "collapsed": true
   },
   "outputs": [],
   "source": [
    "def calculate_accuracy(Xts, yts, D, minimum):\n",
    "    y_pred1 = []\n",
    "    y_pred2 = []\n",
    "    y_pred3 = []\n",
    "    y_pred4 = []\n",
    "    diff = []\n",
    "    class1_avg = 0\n",
    "    class2_avg = 0\n",
    "    class3_avg = 0\n",
    "    class4_avg = 0\n",
    "    counter1 = 0\n",
    "    \n",
    "    #print(D.shape)\n",
    "    \n",
    "    for i in range(len(Xts)):\n",
    "        features = Xts[i]\n",
    "\n",
    "        omp = OrthogonalMatchingPursuit(n_nonzero_coefs=30)\n",
    "        omp.fit(D, features)\n",
    "        coef = omp.coef_\n",
    "\n",
    "        s1 = 0\n",
    "        s2 = 0\n",
    "        s3 = 0\n",
    "        s4 = 0\n",
    "\n",
    "        l1 = 0\n",
    "        l2 = 0\n",
    "        l3 = 0\n",
    "        l4 = 0\n",
    "\n",
    "        a1 = 0\n",
    "        a2 = 0\n",
    "        a3 = 0\n",
    "        a4 = 0\n",
    "\n",
    "        list1 = coef[0:minimum]\n",
    "        list2 = coef[minimum:2 * minimum]\n",
    "        list3 = coef[2 * minimum:3 * minimum]\n",
    "        list4 = coef[3 * minimum:4 * minimum]\n",
    "\n",
    "        c1 = (sum(z * z for z in list1))**(1 / 2.0)\n",
    "        c2 = (sum(z * z for z in list2))**(1 / 2.0)\n",
    "        c3 = (sum(z * z for z in list3))**(1 / 2.0)\n",
    "        c4 = (sum(z * z for z in list4))**(1 / 2.0)\n",
    "\n",
    "        s1 = np.std(list1)\n",
    "        s2 = np.std(list2)\n",
    "        s3 = np.std(list3)\n",
    "        s4 = np.std(list4)\n",
    "\n",
    "        a1 = max(list1)\n",
    "        a2 = max(list2)\n",
    "        a3 = max(list3)\n",
    "        a4 = max(list4)\n",
    "\n",
    "        for i1 in range(minimum):\n",
    "            l1 = l1 + coef[i1]\n",
    "\n",
    "        for i1 in xrange(minimum, 2 * minimum):\n",
    "            l2 = l2 + coef[i1]\n",
    "\n",
    "        for i1 in range(2 * minimum, 3 * minimum):\n",
    "            l3 = l3 + coef[i1]\n",
    "\n",
    "        for i1 in xrange(3 * minimum, 4 * minimum):\n",
    "            l4 = l4 + coef[i1]\n",
    "\n",
    "        if s1 >= s2 and s1 >= s3 and s1 >= s4:\n",
    "            y_pred1.append(0)\n",
    "        elif s2 >= s1 and s2 >= s3 and s2 >= s4:\n",
    "            y_pred1.append(1)\n",
    "        elif s3 >= s1 and s3 >= s2 and s3 >= s4:\n",
    "            y_pred1.append(2)\n",
    "        else:\n",
    "            y_pred1.append(3)\n",
    "            if (yts[i] == 2):\n",
    "                if (counter1 == 0):\n",
    "                    counter1 += 1\n",
    "                    idx_r, = coef.nonzero()\n",
    "\n",
    "        if l1 >= l2 and l1 >= l3 and l1 >= l4:\n",
    "            y_pred2.append(0)\n",
    "        elif l2 >= l1 and l2 >= l3 and l2 >= l4:\n",
    "            y_pred2.append(1)\n",
    "        elif l3 >= l1 and l3 >= l2 and l3 >= l4:\n",
    "            y_pred2.append(2)\n",
    "        else:\n",
    "            y_pred2.append(3)\n",
    "\n",
    "        if a1 >= a2 and a1 >= a3 and a1 >= a4:\n",
    "            y_pred3.append(0)\n",
    "        elif a2 >= a1 and a2 >= a3 and a2 >= a4:\n",
    "            y_pred3.append(1)\n",
    "        elif a3 >= a1 and a3 >= a2 and a3 >= a4:\n",
    "            y_pred3.append(2)\n",
    "        else:\n",
    "            y_pred3.append(3)\n",
    "\n",
    "        if c1 >= c2 and c1 >= c3 and c1 >= c4:\n",
    "            y_pred4.append(0)\n",
    "        elif c2 >= c1 and c2 >= c3 and c2 >= c4:\n",
    "            y_pred4.append(1)\n",
    "        elif c3 >= c1 and c3 >= c2 and c3 >= c4:\n",
    "            y_pred4.append(2)\n",
    "        else:\n",
    "            y_pred4.append(3)\n",
    "    \n",
    "    class1_avg += metrics.accuracy_score(\n",
    "        yts, y_pred4, normalize=True, sample_weight=None)\n",
    "    class2_avg += metrics.accuracy_score(\n",
    "        yts, y_pred3, normalize=True, sample_weight=None)\n",
    "    class3_avg += metrics.accuracy_score(\n",
    "        yts, y_pred1, normalize=True, sample_weight=None)\n",
    "    class4_avg += metrics.accuracy_score(\n",
    "        yts, y_pred2, normalize=True, sample_weight=None)\n",
    "\n",
    "    return y_pred4, y_pred3, y_pred1, y_pred2, class1_avg, class2_avg, class3_avg, class4_avg"
   ]
  },
  {
   "cell_type": "code",
   "execution_count": 22,
   "metadata": {
    "ExecuteTime": {
     "end_time": "2018-08-30T11:32:57.426047Z",
     "start_time": "2018-08-30T11:32:57.411639Z"
    }
   },
   "outputs": [
    {
     "data": {
      "text/plain": [
       "(2400,)"
      ]
     },
     "execution_count": 22,
     "metadata": {},
     "output_type": "execute_result"
    }
   ],
   "source": [
    "r = 600\n",
    "y_test3 = np.zeros((r*4,))\n",
    "for i in range(r*4):\n",
    "    if i<r: y_test3[i]=0\n",
    "    elif i<r*2: y_test3[i]=1\n",
    "    elif i<r*3: y_test3[i]=2\n",
    "    else: y_test3[i]=3\n",
    "y_test3.shape"
   ]
  },
  {
   "cell_type": "code",
   "execution_count": 23,
   "metadata": {
    "ExecuteTime": {
     "end_time": "2018-08-30T11:33:20.081809Z",
     "start_time": "2018-08-30T11:32:58.176272Z"
    }
   },
   "outputs": [
    {
     "name": "stdout",
     "output_type": "stream",
     "text": [
      "0.928645833333\n",
      "class1: 0.931666666667\n",
      "class2: 0.93125\n",
      "class3: 0.93125\n",
      "class4: 0.920416666667\n"
     ]
    }
   ],
   "source": [
    "# dict = sub1  test cases are of sub1\n",
    "y_classifier1, y_classifier2, y_classifier3, y_classifier4, a1, a2, a3, a4 = calculate_accuracy(\n",
    "            D_test, y_test3.reshape(-1,1), np.transpose(D1), 1080/4)\n",
    "print((a1+a2+a3+a4) / 4)\n",
    "print('class1:', a1)\n",
    "print('class2:', a2)\n",
    "print('class3:', a3)\n",
    "print('class4:', a4)"
   ]
  },
  {
   "cell_type": "code",
   "execution_count": null,
   "metadata": {
    "collapsed": true
   },
   "outputs": [],
   "source": []
  },
  {
   "cell_type": "code",
   "execution_count": null,
   "metadata": {
    "collapsed": true
   },
   "outputs": [],
   "source": []
  }
 ],
 "metadata": {
  "kernelspec": {
   "display_name": "Python 2",
   "language": "python",
   "name": "python2"
  },
  "language_info": {
   "codemirror_mode": {
    "name": "ipython",
    "version": 2
   },
   "file_extension": ".py",
   "mimetype": "text/x-python",
   "name": "python",
   "nbconvert_exporter": "python",
   "pygments_lexer": "ipython2",
   "version": "2.7.13"
  }
 },
 "nbformat": 4,
 "nbformat_minor": 2
}
