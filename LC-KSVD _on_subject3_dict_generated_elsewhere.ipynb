{
 "cells": [
  {
   "cell_type": "code",
   "execution_count": 1,
   "metadata": {
    "ExecuteTime": {
     "end_time": "2019-07-29T09:19:52.334250Z",
     "start_time": "2019-07-29T09:19:51.737316Z"
    }
   },
   "outputs": [
    {
     "name": "stderr",
     "output_type": "stream",
     "text": [
      "Matplotlib is building the font cache using fc-list. This may take a moment.\n"
     ]
    }
   ],
   "source": [
    "from __future__ import print_function\n",
    "\n",
    "import numpy as np\n",
    "import numpy as np\n",
    "import pandas as pd\n",
    "import scipy\n",
    "from matplotlib import pyplot as plt\n",
    "import csv\n",
    "from sklearn import metrics\n",
    "from sklearn.linear_model import OrthogonalMatchingPursuit\n",
    "from sklearn.linear_model import OrthogonalMatchingPursuitCV\n",
    "from sklearn.decomposition import PCA, TruncatedSVD\n",
    "from sklearn import metrics\n",
    "from sklearn.preprocessing import normalize\n",
    "from scipy.sparse import coo_matrix\n",
    "from sklearn.utils import resample\n",
    "import time\n",
    "from sklearn.cluster import KMeans\n",
    "from scipy.stats import pearsonr\n",
    "from sklearn.cluster import AgglomerativeClustering\n",
    "import sklearn"
   ]
  },
  {
   "cell_type": "code",
   "execution_count": 2,
   "metadata": {
    "ExecuteTime": {
     "end_time": "2019-07-29T09:19:53.567976Z",
     "start_time": "2019-07-29T09:19:53.551175Z"
    }
   },
   "outputs": [],
   "source": [
    "D = np.load(\"D3.npy\")"
   ]
  },
  {
   "cell_type": "code",
   "execution_count": 3,
   "metadata": {
    "ExecuteTime": {
     "end_time": "2019-07-29T09:19:54.242037Z",
     "start_time": "2019-07-29T09:19:54.221840Z"
    }
   },
   "outputs": [
    {
     "ename": "FileNotFoundError",
     "evalue": "[Errno 2] No such file or directory: 'dict_sub3_l1b.npy'",
     "output_type": "error",
     "traceback": [
      "\u001b[0;31m---------------------------------------------------------------------------\u001b[0m",
      "\u001b[0;31mFileNotFoundError\u001b[0m                         Traceback (most recent call last)",
      "\u001b[0;32m<ipython-input-3-485dc25f0ef6>\u001b[0m in \u001b[0;36m<module>\u001b[0;34m\u001b[0m\n\u001b[0;32m----> 1\u001b[0;31m \u001b[0mD_test\u001b[0m \u001b[0;34m=\u001b[0m \u001b[0mnp\u001b[0m\u001b[0;34m.\u001b[0m\u001b[0mload\u001b[0m\u001b[0;34m(\u001b[0m\u001b[0;34m\"dict_sub3_l1b.npy\"\u001b[0m\u001b[0;34m)\u001b[0m\u001b[0;34m\u001b[0m\u001b[0;34m\u001b[0m\u001b[0m\n\u001b[0m",
      "\u001b[0;32m~/opt/anaconda3/lib/python3.8/site-packages/numpy/lib/npyio.py\u001b[0m in \u001b[0;36mload\u001b[0;34m(file, mmap_mode, allow_pickle, fix_imports, encoding)\u001b[0m\n\u001b[1;32m    426\u001b[0m         \u001b[0mown_fid\u001b[0m \u001b[0;34m=\u001b[0m \u001b[0;32mFalse\u001b[0m\u001b[0;34m\u001b[0m\u001b[0;34m\u001b[0m\u001b[0m\n\u001b[1;32m    427\u001b[0m     \u001b[0;32melse\u001b[0m\u001b[0;34m:\u001b[0m\u001b[0;34m\u001b[0m\u001b[0;34m\u001b[0m\u001b[0m\n\u001b[0;32m--> 428\u001b[0;31m         \u001b[0mfid\u001b[0m \u001b[0;34m=\u001b[0m \u001b[0mopen\u001b[0m\u001b[0;34m(\u001b[0m\u001b[0mos_fspath\u001b[0m\u001b[0;34m(\u001b[0m\u001b[0mfile\u001b[0m\u001b[0;34m)\u001b[0m\u001b[0;34m,\u001b[0m \u001b[0;34m\"rb\"\u001b[0m\u001b[0;34m)\u001b[0m\u001b[0;34m\u001b[0m\u001b[0;34m\u001b[0m\u001b[0m\n\u001b[0m\u001b[1;32m    429\u001b[0m         \u001b[0mown_fid\u001b[0m \u001b[0;34m=\u001b[0m \u001b[0;32mTrue\u001b[0m\u001b[0;34m\u001b[0m\u001b[0;34m\u001b[0m\u001b[0m\n\u001b[1;32m    430\u001b[0m \u001b[0;34m\u001b[0m\u001b[0m\n",
      "\u001b[0;31mFileNotFoundError\u001b[0m: [Errno 2] No such file or directory: 'dict_sub3_l1b.npy'"
     ]
    }
   ],
   "source": [
    "D_test = np.load(\"dict_sub3_l1b.npy\")"
   ]
  },
  {
   "cell_type": "code",
   "execution_count": 4,
   "metadata": {
    "ExecuteTime": {
     "end_time": "2019-07-29T09:19:54.870278Z",
     "start_time": "2019-07-29T09:19:54.851685Z"
    }
   },
   "outputs": [
    {
     "data": {
      "text/plain": [
       "(240, 1080)"
      ]
     },
     "execution_count": 4,
     "metadata": {},
     "output_type": "execute_result"
    }
   ],
   "source": [
    "D.shape"
   ]
  },
  {
   "cell_type": "code",
   "execution_count": 5,
   "metadata": {
    "ExecuteTime": {
     "end_time": "2019-07-29T09:19:55.541600Z",
     "start_time": "2019-07-29T09:19:55.527390Z"
    }
   },
   "outputs": [
    {
     "data": {
      "text/plain": [
       "(1080, 240)"
      ]
     },
     "execution_count": 5,
     "metadata": {},
     "output_type": "execute_result"
    }
   ],
   "source": [
    "D.shape\n",
    "D1 = np.transpose(D)\n",
    "D1.shape"
   ]
  },
  {
   "cell_type": "code",
   "execution_count": 6,
   "metadata": {
    "ExecuteTime": {
     "end_time": "2019-07-29T09:21:07.149569Z",
     "start_time": "2019-07-29T09:21:07.092848Z"
    }
   },
   "outputs": [],
   "source": [
    "def calculate_accuracy(Xts, yts, D, minimum):\n",
    "    y_pred1 = []\n",
    "    y_pred2 = []\n",
    "    y_pred3 = []\n",
    "    y_pred4 = []\n",
    "    diff = []\n",
    "    class1_avg = 0\n",
    "    class2_avg = 0\n",
    "    class3_avg = 0\n",
    "    class4_avg = 0\n",
    "    counter1 = 0\n",
    "    \n",
    "    #print(D.shape)\n",
    "    \n",
    "    for i in range(len(Xts)):\n",
    "        features = Xts[i]\n",
    "\n",
    "        omp = OrthogonalMatchingPursuit(n_nonzero_coefs=30)\n",
    "        omp.fit(D, features)\n",
    "        coef = omp.coef_\n",
    "\n",
    "        s1 = 0\n",
    "        s2 = 0\n",
    "        s3 = 0\n",
    "        s4 = 0\n",
    "\n",
    "        l1 = 0\n",
    "        l2 = 0\n",
    "        l3 = 0\n",
    "        l4 = 0\n",
    "\n",
    "        a1 = 0\n",
    "        a2 = 0\n",
    "        a3 = 0\n",
    "        a4 = 0\n",
    "\n",
    "        list1 = coef[0:minimum]\n",
    "        list2 = coef[minimum:2 * minimum]\n",
    "        list3 = coef[2 * minimum:3 * minimum]\n",
    "        list4 = coef[3 * minimum:4 * minimum]\n",
    "\n",
    "        c1 = (sum(z * z for z in list1))**(1 / 2.0)\n",
    "        c2 = (sum(z * z for z in list2))**(1 / 2.0)\n",
    "        c3 = (sum(z * z for z in list3))**(1 / 2.0)\n",
    "        c4 = (sum(z * z for z in list4))**(1 / 2.0)\n",
    "\n",
    "        s1 = np.std(list1)\n",
    "        s2 = np.std(list2)\n",
    "        s3 = np.std(list3)\n",
    "        s4 = np.std(list4)\n",
    "\n",
    "        a1 = max(list1)\n",
    "        a2 = max(list2)\n",
    "        a3 = max(list3)\n",
    "        a4 = max(list4)\n",
    "\n",
    "        for i1 in range(minimum):\n",
    "            l1 = l1 + coef[i1]\n",
    "\n",
    "        for i1 in range(minimum, 2 * minimum):\n",
    "            l2 = l2 + coef[i1]\n",
    "\n",
    "        for i1 in range(2 * minimum, 3 * minimum):\n",
    "            l3 = l3 + coef[i1]\n",
    "\n",
    "        for i1 in range(3 * minimum, 4 * minimum):\n",
    "            l4 = l4 + coef[i1]\n",
    "\n",
    "        if s1 >= s2 and s1 >= s3 and s1 >= s4:\n",
    "            y_pred1.append(0)\n",
    "        elif s2 >= s1 and s2 >= s3 and s2 >= s4:\n",
    "            y_pred1.append(1)\n",
    "        elif s3 >= s1 and s3 >= s2 and s3 >= s4:\n",
    "            y_pred1.append(2)\n",
    "        else:\n",
    "            y_pred1.append(3)\n",
    "            if (yts[i] == 2):\n",
    "                if (counter1 == 0):\n",
    "                    counter1 += 1\n",
    "                    idx_r, = coef.nonzero()\n",
    "\n",
    "        if l1 >= l2 and l1 >= l3 and l1 >= l4:\n",
    "            y_pred2.append(0)\n",
    "        elif l2 >= l1 and l2 >= l3 and l2 >= l4:\n",
    "            y_pred2.append(1)\n",
    "        elif l3 >= l1 and l3 >= l2 and l3 >= l4:\n",
    "            y_pred2.append(2)\n",
    "        else:\n",
    "            y_pred2.append(3)\n",
    "\n",
    "        if a1 >= a2 and a1 >= a3 and a1 >= a4:\n",
    "            y_pred3.append(0)\n",
    "        elif a2 >= a1 and a2 >= a3 and a2 >= a4:\n",
    "            y_pred3.append(1)\n",
    "        elif a3 >= a1 and a3 >= a2 and a3 >= a4:\n",
    "            y_pred3.append(2)\n",
    "        else:\n",
    "            y_pred3.append(3)\n",
    "\n",
    "        if c1 >= c2 and c1 >= c3 and c1 >= c4:\n",
    "            y_pred4.append(0)\n",
    "        elif c2 >= c1 and c2 >= c3 and c2 >= c4:\n",
    "            y_pred4.append(1)\n",
    "        elif c3 >= c1 and c3 >= c2 and c3 >= c4:\n",
    "            y_pred4.append(2)\n",
    "        else:\n",
    "            y_pred4.append(3)\n",
    "    \n",
    "    class1_avg += metrics.accuracy_score(\n",
    "        yts, y_pred4, normalize=True, sample_weight=None)\n",
    "    class2_avg += metrics.accuracy_score(\n",
    "        yts, y_pred3, normalize=True, sample_weight=None)\n",
    "    class3_avg += metrics.accuracy_score(\n",
    "        yts, y_pred1, normalize=True, sample_weight=None)\n",
    "    class4_avg += metrics.accuracy_score(\n",
    "        yts, y_pred2, normalize=True, sample_weight=None)\n",
    "\n",
    "    return y_pred4, y_pred3, y_pred1, y_pred2, class1_avg, class2_avg, class3_avg, class4_avg"
   ]
  },
  {
   "cell_type": "code",
   "execution_count": 7,
   "metadata": {
    "ExecuteTime": {
     "end_time": "2019-07-29T09:21:07.898999Z",
     "start_time": "2019-07-29T09:21:07.875358Z"
    }
   },
   "outputs": [
    {
     "data": {
      "text/plain": [
       "(2400,)"
      ]
     },
     "execution_count": 7,
     "metadata": {},
     "output_type": "execute_result"
    }
   ],
   "source": [
    "r = 600\n",
    "y_test3 = np.zeros((r*4,))\n",
    "for i in range(r*4):\n",
    "    if i<r: y_test3[i]=0\n",
    "    elif i<r*2: y_test3[i]=1\n",
    "    elif i<r*3: y_test3[i]=2\n",
    "    else: y_test3[i]=3\n",
    "y_test3.shape"
   ]
  },
  {
   "cell_type": "code",
   "execution_count": 8,
   "metadata": {
    "ExecuteTime": {
     "end_time": "2019-07-29T09:21:46.454992Z",
     "start_time": "2019-07-29T09:21:13.822954Z"
    }
   },
   "outputs": [
    {
     "ename": "NameError",
     "evalue": "name 'D_test' is not defined",
     "output_type": "error",
     "traceback": [
      "\u001b[0;31m---------------------------------------------------------------------------\u001b[0m",
      "\u001b[0;31mNameError\u001b[0m                                 Traceback (most recent call last)",
      "\u001b[0;32m<ipython-input-8-193d5f9a49a6>\u001b[0m in \u001b[0;36m<module>\u001b[0;34m\u001b[0m\n\u001b[1;32m      1\u001b[0m \u001b[0;31m# dict = sub1  test cases are of sub1\u001b[0m\u001b[0;34m\u001b[0m\u001b[0;34m\u001b[0m\u001b[0;34m\u001b[0m\u001b[0m\n\u001b[1;32m      2\u001b[0m y_classifier1, y_classifier2, y_classifier3, y_classifier4, a1, a2, a3, a4 = calculate_accuracy(\n\u001b[0;32m----> 3\u001b[0;31m     D_test, y_test3.reshape(-1,1), np.transpose(D1), int(1080/4))\n\u001b[0m\u001b[1;32m      4\u001b[0m \u001b[0mprint\u001b[0m\u001b[0;34m(\u001b[0m\u001b[0;34m(\u001b[0m\u001b[0ma1\u001b[0m\u001b[0;34m+\u001b[0m\u001b[0ma2\u001b[0m\u001b[0;34m+\u001b[0m\u001b[0ma3\u001b[0m\u001b[0;34m+\u001b[0m\u001b[0ma4\u001b[0m\u001b[0;34m)\u001b[0m \u001b[0;34m/\u001b[0m \u001b[0;36m4\u001b[0m\u001b[0;34m)\u001b[0m\u001b[0;34m\u001b[0m\u001b[0;34m\u001b[0m\u001b[0m\n\u001b[1;32m      5\u001b[0m \u001b[0mprint\u001b[0m\u001b[0;34m(\u001b[0m\u001b[0;34m'class1:'\u001b[0m\u001b[0;34m,\u001b[0m \u001b[0ma1\u001b[0m\u001b[0;34m)\u001b[0m\u001b[0;34m\u001b[0m\u001b[0;34m\u001b[0m\u001b[0m\n",
      "\u001b[0;31mNameError\u001b[0m: name 'D_test' is not defined"
     ]
    }
   ],
   "source": [
    "# dict = sub1  test cases are of sub1\n",
    "y_classifier1, y_classifier2, y_classifier3, y_classifier4, a1, a2, a3, a4 = calculate_accuracy(\n",
    "    D_test, y_test3.reshape(-1,1), np.transpose(D1), int(1080/4))\n",
    "print((a1+a2+a3+a4) / 4)\n",
    "print('class1:', a1)\n",
    "print('class2:', a2)\n",
    "print('class3:', a3)\n",
    "print('class4:', a4)"
   ]
  },
  {
   "cell_type": "code",
   "execution_count": 52,
   "metadata": {
    "ExecuteTime": {
     "end_time": "2019-07-29T09:51:35.046369Z",
     "start_time": "2019-07-29T09:51:35.012980Z"
    }
   },
   "outputs": [
    {
     "name": "stdout",
     "output_type": "stream",
     "text": [
      "--- 0.018755674362182617 seconds ---\n"
     ]
    }
   ],
   "source": [
    "start_time = time.time()\n",
    "# y_classifier1,y_classifier2,y_classifier3,y_classifier4, a1,a2,a3,a4 = calculate_accuracy(\n",
    "#     np.reshape(X_test[0],(1,-1)), np.reshape(y_test[0],(1,-1)),reb_dictionary,class1,class2,5)\n",
    "y_classifier1, y_classifier2, y_classifier3, y_classifier4, a1, a2, a3, a4 = calculate_accuracy(\n",
    "    np.reshape(D_test[0],(1,-1)), np.reshape(y_test3.reshape(-1,1)[0],(1,-1)), np.transpose(D1), int(1080/4))\n",
    "print(\"--- %s seconds ---\" % (time.time() - start_time))"
   ]
  },
  {
   "cell_type": "code",
   "execution_count": null,
   "metadata": {},
   "outputs": [],
   "source": []
  },
  {
   "cell_type": "code",
   "execution_count": 13,
   "metadata": {
    "ExecuteTime": {
     "end_time": "2019-07-29T09:11:38.684371Z",
     "start_time": "2019-07-29T09:11:38.677225Z"
    }
   },
   "outputs": [],
   "source": [
    "# y_test3, y_classifier1"
   ]
  },
  {
   "cell_type": "code",
   "execution_count": 10,
   "metadata": {
    "ExecuteTime": {
     "end_time": "2019-07-29T09:12:42.653520Z",
     "start_time": "2019-07-29T09:12:42.645150Z"
    }
   },
   "outputs": [],
   "source": [
    "array = sklearn.metrics.confusion_matrix(y_test3, y_classifier1, labels=None, sample_weight=None)\n",
    "\n",
    "df_cm = pd.DataFrame(array, index = [i for i in \"ABCD\"], columns = [i for i in \"ABCD\"])\n",
    "\n",
    "plt.matshow(df_cm)\n",
    "# sn.heatmap(df_cm, annot=True)"
   ]
  },
  {
   "cell_type": "code",
   "execution_count": 37,
   "metadata": {
    "ExecuteTime": {
     "end_time": "2019-07-29T09:39:21.083375Z",
     "start_time": "2019-07-29T09:39:21.072764Z"
    }
   },
   "outputs": [],
   "source": [
    "class_names = np.array([\"0\",\"1\",\"2\",\"3\"])"
   ]
  },
  {
   "cell_type": "code",
   "execution_count": 46,
   "metadata": {
    "ExecuteTime": {
     "end_time": "2019-07-29T09:45:11.905573Z",
     "start_time": "2019-07-29T09:45:11.236073Z"
    }
   },
   "outputs": [
    {
     "name": "stdout",
     "output_type": "stream",
     "text": [
      "Automatically created module for IPython interactive environment\n",
      "Confusion matrix, without normalization\n",
      "[[549  11  18  22]\n",
      " [ 16 560  15   9]\n",
      " [ 19  10 564   7]\n",
      " [ 10  16  11 563]]\n",
      "Normalized confusion matrix\n",
      "[[0.92 0.02 0.03 0.04]\n",
      " [0.03 0.93 0.03 0.01]\n",
      " [0.03 0.02 0.94 0.01]\n",
      " [0.02 0.03 0.02 0.94]]\n"
     ]
    },
    {
     "data": {
      "image/png": "[encoded data removed]",
      "text/plain": [
       "<Figure size 432x288 with 2 Axes>"
      ]
     },
     "metadata": {
      "needs_background": "light"
     },
     "output_type": "display_data"
    },
    {
     "data": {
      "image/png": "[encoded data removed]",
      "text/plain": [
       "<Figure size 432x288 with 2 Axes>"
      ]
     },
     "metadata": {
      "needs_background": "light"
     },
     "output_type": "display_data"
    }
   ],
   "source": [
    "print(__doc__)\n",
    "\n",
    "import numpy as np\n",
    "import matplotlib.pyplot as plt\n",
    "\n",
    "from sklearn import svm, datasets\n",
    "from sklearn.model_selection import train_test_split\n",
    "from sklearn.metrics import confusion_matrix\n",
    "from sklearn.utils.multiclass import unique_labels\n",
    "\n",
    "\n",
    "def plot_confusion_matrix(y_true, y_pred, classes,\n",
    "                          normalize=False,\n",
    "                          title=None,\n",
    "                          cmap=plt.cm.Blues):\n",
    "    \"\"\"\n",
    "    This function prints and plots the confusion matrix.\n",
    "    Normalization can be applied by setting `normalize=True`.\n",
    "    \"\"\"\n",
    "    if not title:\n",
    "        if normalize:\n",
    "            title = 'Normalized confusion matrix'\n",
    "        else:\n",
    "            title = 'Confusion matrix, without normalization'\n",
    "\n",
    "    # Compute confusion matrix\n",
    "    cm = confusion_matrix(y_true, y_pred)\n",
    "    # Only use the labels that appear in the data\n",
    "    #classes = classes[unique_labels(y_true, y_pred)]\n",
    "    if normalize:\n",
    "        cm = cm.astype('float') / cm.sum(axis=1)[:, np.newaxis]\n",
    "        print(\"Normalized confusion matrix\")\n",
    "    else:\n",
    "        print('Confusion matrix, without normalization')\n",
    "\n",
    "    print(cm)\n",
    "\n",
    "    fig, ax = plt.subplots()\n",
    "    im = ax.imshow(cm, interpolation='nearest', cmap=cmap)\n",
    "    ax.figure.colorbar(im, ax=ax)\n",
    "    # We want to show all ticks...\n",
    "    ax.set(xticks=np.arange(cm.shape[1]),\n",
    "           yticks=np.arange(cm.shape[0]),\n",
    "           # ... and label them with the respective list entries\n",
    "           xticklabels=classes, yticklabels=classes,\n",
    "           title=title,\n",
    "           ylabel='True label',\n",
    "           xlabel='Predicted label')\n",
    "\n",
    "    # Rotate the tick labels and set their alignment.\n",
    "    plt.setp(ax.get_xticklabels(), rotation=45, ha=\"right\",\n",
    "             rotation_mode=\"anchor\")\n",
    "\n",
    "    # Loop over data dimensions and create text annotations.\n",
    "    fmt = '.2f' if normalize else 'd'\n",
    "    thresh = cm.max() / 2.\n",
    "    for i in range(cm.shape[0]):\n",
    "        for j in range(cm.shape[1]):\n",
    "            ax.text(j, i, format(cm[i, j], fmt),\n",
    "                    ha=\"center\", va=\"center\",\n",
    "                    color=\"white\" if cm[i, j] > thresh else \"black\")\n",
    "    fig.tight_layout()\n",
    "    return ax\n",
    "\n",
    "\n",
    "np.set_printoptions(precision=2)\n",
    "\n",
    "# Plot non-normalized confusion matrix\n",
    "plot_confusion_matrix(y_test3, y_classifier1, classes=class_names)#,\n",
    "                      #title='Confusion matrix, without normalization')\n",
    "# plt.savefig(\"small_conf_mat_lc_ksvd_sub3_multi_.png\",quality=95)\n",
    "\n",
    "# Plot normalized confusion matrix\n",
    "plot_confusion_matrix(y_test3, y_classifier1, classes=class_names, normalize=True)#,\n",
    "                      #title='Normalized confusion matrix')\n",
    "\n",
    "# plt.savefig(\"small_conf_mat_lc_ksvd_sub3_multi_norm.png\",quality=95)\n",
    "plt.show()"
   ]
  },
  {
   "cell_type": "code",
   "execution_count": 39,
   "metadata": {
    "ExecuteTime": {
     "end_time": "2019-07-29T09:41:30.013551Z",
     "start_time": "2019-07-29T09:41:29.983690Z"
    }
   },
   "outputs": [
    {
     "data": {
      "text/plain": [
       "<Figure size 432x288 with 0 Axes>"
      ]
     },
     "metadata": {},
     "output_type": "display_data"
    }
   ],
   "source": []
  },
  {
   "cell_type": "code",
   "execution_count": 28,
   "metadata": {
    "ExecuteTime": {
     "end_time": "2019-07-29T09:35:23.192984Z",
     "start_time": "2019-07-29T09:35:23.169028Z"
    }
   },
   "outputs": [],
   "source": [
    "import itertools\n",
    "import numpy as np\n",
    "import matplotlib.pyplot as plt\n",
    "\n",
    "from sklearn import svm, datasets\n",
    "from sklearn.model_selection import train_test_split\n",
    "from sklearn.metrics import confusion_matrix\n",
    "\n",
    "\n",
    "def plot_confusion_matrix(cm, classes,\n",
    "                          normalize=False,\n",
    "                          title='Confusion matrix',\n",
    "                          cmap=plt.cm.Greens):\n",
    "    \"\"\"\n",
    "    This function prints and plots the confusion matrix.\n",
    "    Normalization can be applied by setting `normalize=True`.\n",
    "    \"\"\"\n",
    "    plt.imshow(cm, interpolation='nearest', cmap=cmap)\n",
    "    plt.title(title)\n",
    "    plt.colorbar()\n",
    "    tick_marks = np.arange(len(classes))\n",
    "    plt.xticks(tick_marks, classes, rotation=45)\n",
    "    plt.yticks(tick_marks, classes)\n",
    "\n",
    "    if normalize:\n",
    "        cm = cm.astype('float') / cm.sum(axis=1)[:, np.newaxis]\n",
    "        print(\"Normalized confusion matrix\")\n",
    "    else:\n",
    "        print('Confusion matrix, without normalization')\n",
    "\n",
    "    print(cm)\n",
    "\n",
    "    thresh = cm.max() / 2.\n",
    "    for i, j in itertools.product(range(cm.shape[0]), range(cm.shape[1])):\n",
    "        plt.text(j, i, cm[i, j],\n",
    "                 horizontalalignment=\"center\",\n",
    "                 color=\"white\" if cm[i, j] > thresh else \"black\")\n",
    "\n",
    "    plt.tight_layout()\n",
    "    plt.ylabel('True label')\n",
    "    plt.xlabel('Predicted label')"
   ]
  },
  {
   "cell_type": "code",
   "execution_count": 30,
   "metadata": {
    "ExecuteTime": {
     "end_time": "2019-07-29T09:37:16.357677Z",
     "start_time": "2019-07-29T09:37:15.894439Z"
    }
   },
   "outputs": [
    {
     "name": "stdout",
     "output_type": "stream",
     "text": [
      "Confusion matrix, without normalization\n",
      "[[549  11  18  22]\n",
      " [ 16 560  15   9]\n",
      " [ 19  10 564   7]\n",
      " [ 10  16  11 563]]\n",
      "Normalized confusion matrix\n",
      "[[0.92 0.02 0.03 0.04]\n",
      " [0.03 0.93 0.03 0.01]\n",
      " [0.03 0.02 0.94 0.01]\n",
      " [0.02 0.03 0.02 0.94]]\n"
     ]
    },
    {
     "data": {
      "image/png": "[encoded data removed]",
      "text/plain": [
       "<Figure size 432x288 with 2 Axes>"
      ]
     },
     "metadata": {
      "needs_background": "light"
     },
     "output_type": "display_data"
    },
    {
     "data": {
      "image/png": "[encoded data removed]",
      "text/plain": [
       "<Figure size 432x288 with 2 Axes>"
      ]
     },
     "metadata": {
      "needs_background": "light"
     },
     "output_type": "display_data"
    }
   ],
   "source": [
    "##PLOT CONFUSION MATRIX\n",
    "cnf_matrix = confusion_matrix(y_test3, y_classifier1)\n",
    "np.set_printoptions(precision=2)\n",
    "class_names = [\"Right Hand\",\"Foot\"]\n",
    "\n",
    "# Plot non-normalized confusion matrix\n",
    "plt.figure()\n",
    "plot_confusion_matrix(cnf_matrix, classes=class_names,title='Confusion matrix, without normalization')\n",
    "\n",
    "# Plot normalized confusion matrix\n",
    "plt.figure()\n",
    "plot_confusion_matrix(cnf_matrix, classes=class_names, normalize=True,title='Normalized confusion matrix')\n",
    "plt.show()"
   ]
  },
  {
   "cell_type": "code",
   "execution_count": 31,
   "metadata": {
    "ExecuteTime": {
     "end_time": "2019-07-29T09:38:12.395003Z",
     "start_time": "2019-07-29T09:38:12.374747Z"
    }
   },
   "outputs": [],
   "source": [
    "#calculate score\n",
    "y_final_test = y_test3\n",
    "y_all1 = y_classifier1\n",
    "from sklearn.metrics import f1_score\n",
    "y_score = f1_score(y_final_test, y_all1, average=None)"
   ]
  },
  {
   "cell_type": "code",
   "execution_count": 32,
   "metadata": {
    "ExecuteTime": {
     "end_time": "2019-07-29T09:38:18.810573Z",
     "start_time": "2019-07-29T09:38:18.793816Z"
    }
   },
   "outputs": [
    {
     "data": {
      "text/plain": [
       "array([0.92, 0.94, 0.93, 0.94])"
      ]
     },
     "execution_count": 32,
     "metadata": {},
     "output_type": "execute_result"
    }
   ],
   "source": [
    "y_score"
   ]
  },
  {
   "cell_type": "code",
   "execution_count": 48,
   "metadata": {
    "ExecuteTime": {
     "end_time": "2019-07-29T09:46:27.333261Z",
     "start_time": "2019-07-29T09:46:26.841775Z"
    }
   },
   "outputs": [
    {
     "data": {
      "image/png": "[encoded data removed]",
      "text/plain": [
       "<Figure size 432x288 with 1 Axes>"
      ]
     },
     "metadata": {
      "needs_background": "light"
     },
     "output_type": "display_data"
    }
   ],
   "source": [
    "## Plot ROC curve\n",
    "\n",
    "count = 0\n",
    "iterator = 0\n",
    "real0 = []\n",
    "pred0 = []\n",
    "\n",
    "real1 = []\n",
    "pred1 = []\n",
    "\n",
    "\n",
    "real2 = []\n",
    "pred2 = []\n",
    "\n",
    "\n",
    "real3 = []\n",
    "pred3 = []\n",
    "\n",
    "while(iterator < len(y_final_test)):\n",
    "    if(y_final_test[iterator] == 0):\n",
    "        real0.append(0)\n",
    "        if(y_all1[iterator] == 0):\n",
    "            pred0.append(0)\n",
    "        else:\n",
    "            pred0.append(1)\n",
    "    else:\n",
    "        real0.append(1)\n",
    "        if(y_all1[iterator] == 0):\n",
    "            pred0.append(0)\n",
    "        else:\n",
    "            pred0.append(1)\n",
    "    iterator += 1\n",
    "    \n",
    "iterator = 0\n",
    "while(iterator < len(y_final_test)):\n",
    "    if(y_final_test[iterator] == 1):\n",
    "        real1.append(1)\n",
    "        if(y_all1[iterator] == 1):\n",
    "            pred1.append(1)\n",
    "        else:\n",
    "            pred1.append(0)\n",
    "    else:\n",
    "        real1.append(0)\n",
    "        if(y_all1[iterator] == 1):\n",
    "            pred1.append(1)\n",
    "        else:\n",
    "            pred1.append(0)\n",
    "    iterator += 1\n",
    "    \n",
    "    \n",
    "\n",
    "\n",
    "import numpy as np\n",
    "import matplotlib.pyplot as plt\n",
    "from itertools import cycle\n",
    "\n",
    "from sklearn import svm, datasets\n",
    "from sklearn.metrics import roc_curve, auc\n",
    "from sklearn.model_selection import train_test_split\n",
    "from sklearn.preprocessing import label_binarize\n",
    "from sklearn.multiclass import OneVsRestClassifier\n",
    "from scipy import interp\n",
    "\n",
    "fpr, tpr, _ = roc_curve(real0, pred0)\n",
    "roc_auc = auc(fpr, tpr)\n",
    "\n",
    "fpr1, tpr1, _ = roc_curve(real1, pred1)\n",
    "roc_auc1 = auc(fpr1, tpr1)\n",
    "\n",
    "plt.figure()\n",
    "lw = 2\n",
    "plt.plot(fpr, tpr, color='blue',\n",
    "         lw=lw, label='Right hand class ROC curve (area = %0.2f)' % roc_auc)\n",
    "\n",
    "plt.plot(fpr1, tpr1, color='green',\n",
    "         lw=lw, label='Right foot class ROC curve (area = %0.2f)' % roc_auc1)\n",
    "\n",
    "plt.plot([0, 1], [0, 1], color='darkorange', lw=lw, linestyle='--')\n",
    "plt.xlim([0.0, 1.0])\n",
    "plt.ylim([0.0, 1.05])\n",
    "plt.xlabel('False Positive Rate')\n",
    "plt.ylabel('True Positive Rate')\n",
    "plt.title('Receiver operating characteristic')\n",
    "plt.legend(loc=\"lower right\")\n",
    "# plt.savefig(\"roc_lc_ksvd_sub3_multi_.png\",dpi=400,quality=95)\n",
    "plt.show()"
   ]
  },
  {
   "cell_type": "code",
   "execution_count": 50,
   "metadata": {
    "ExecuteTime": {
     "end_time": "2019-07-29T09:47:16.035934Z",
     "start_time": "2019-07-29T09:47:15.692079Z"
    }
   },
   "outputs": [
    {
     "data": {
      "image/png": "[encoded data removed]",
      "text/plain": [
       "<Figure size 432x288 with 1 Axes>"
      ]
     },
     "metadata": {
      "needs_background": "light"
     },
     "output_type": "display_data"
    }
   ],
   "source": [
    "## Plot precision recall curve\n",
    "\n",
    "import matplotlib.pyplot as plt\n",
    "import numpy as np\n",
    "from itertools import cycle\n",
    "\n",
    "from sklearn import svm, datasets\n",
    "from sklearn.metrics import precision_recall_curve\n",
    "from sklearn.metrics import average_precision_score\n",
    "from sklearn.model_selection import train_test_split\n",
    "from sklearn.preprocessing import label_binarize\n",
    "from sklearn.multiclass import OneVsRestClassifier\n",
    "\n",
    "\n",
    "# Compute Precision-Recall and plot curve\n",
    "precision = []\n",
    "recall = []\n",
    "average_precision = []\n",
    "\n",
    "precision, recall,thresholds = precision_recall_curve(real0,pred0)\n",
    "\n",
    "average_precision = average_precision_score(real0,pred0)\n",
    "\n",
    "\n",
    "precision1, recall1,thresholds1 = precision_recall_curve(real1,pred1)\n",
    "\n",
    "average_precision1 = average_precision_score(real1,pred1)\n",
    "\n",
    "\n",
    "# Plot Precision-Recall curve\n",
    "plt.clf()\n",
    "plt.plot(recall, precision, lw=lw, color='blue', label='Right hand class Precision-recall curve (area = {0:0.2f})'\n",
    "                   ''.format(average_precision))\n",
    "\n",
    "plt.plot(recall1, precision1, lw=lw, color='green', label='Right foot class Precision-recall curve (area = {0:0.2f})'\n",
    "                   ''.format(average_precision1))\n",
    "\n",
    "plt.xlabel('Recall')\n",
    "plt.ylabel('Precision')\n",
    "plt.ylim([0.0, 1.05])\n",
    "plt.xlim([0.0, 1.0])\n",
    "plt.title(\"Precision Recall Curve\")\n",
    "\n",
    "plt.legend(loc=\"lower left\")\n",
    "# plt.savefig(\"small_precision_recall_curve_lc_ksvd_sub3_multi_.png\",quality=95)\n",
    "plt.show()\n"
   ]
  },
  {
   "cell_type": "code",
   "execution_count": null,
   "metadata": {},
   "outputs": [],
   "source": []
  }
 ],
 "metadata": {
  "kernelspec": {
   "display_name": "Python 3",
   "language": "python",
   "name": "python3"
  },
  "language_info": {
   "codemirror_mode": {
    "name": "ipython",
    "version": 3
   },
   "file_extension": ".py",
   "mimetype": "text/x-python",
   "name": "python",
   "nbconvert_exporter": "python",
   "pygments_lexer": "ipython3",
   "version": "3.8.3"
  }
 },
 "nbformat": 4,
 "nbformat_minor": 2
}
